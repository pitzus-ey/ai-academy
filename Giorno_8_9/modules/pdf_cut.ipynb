{
 "cells": [
  {
   "cell_type": "code",
   "execution_count": null,
   "id": "ca454b4c",
   "metadata": {},
   "outputs": [
    {
     "name": "stdout",
     "output_type": "stream",
     "text": [
      "Collecting PyPDF2\n",
      "  Downloading pypdf2-3.0.1-py3-none-any.whl.metadata (6.8 kB)\n",
      "Downloading pypdf2-3.0.1-py3-none-any.whl (232 kB)\n",
      "   ---------------------------------------- 0.0/232.6 kB ? eta -:--:--\n",
      "   ------------ --------------------------- 71.7/232.6 kB 4.1 MB/s eta 0:00:01\n",
      "   -------------------------------------- - 225.3/232.6 kB 3.5 MB/s eta 0:00:01\n",
      "   ---------------------------------------- 232.6/232.6 kB 2.9 MB/s eta 0:00:00\n",
      "Installing collected packages: PyPDF2\n",
      "Successfully installed PyPDF2-3.0.1\n",
      "Note: you may need to restart the kernel to use updated packages.\n"
     ]
    },
    {
     "name": "stderr",
     "output_type": "stream",
     "text": [
      "\n",
      "[notice] A new release of pip is available: 24.0 -> 25.1.1\n",
      "[notice] To update, run: C:\\Users\\XM745EF\\AppData\\Local\\Microsoft\\WindowsApps\\PythonSoftwareFoundation.Python.3.11_qbz5n2kfra8p0\\python.exe -m pip install --upgrade pip\n"
     ]
    }
   ],
   "source": [
    "pip install PyPDF2"
   ]
  },
  {
   "cell_type": "code",
   "execution_count": null,
   "id": "ecdf0f12",
   "metadata": {},
   "outputs": [
    {
     "name": "stdout",
     "output_type": "stream",
     "text": [
      "Nuovo PDF creato: Wiki_Conformità_primi_50.pdf\n"
     ]
    }
   ],
   "source": [
    "from PyPDF2 import PdfReader, PdfWriter\n",
    "\n",
    "# Leggi il PDF originale\n",
    "input_path = \"Wiki_Conformità.pdf\"\n",
    "reader = PdfReader(input_path)\n",
    "\n",
    "# Crea un nuovo PDF writer\n",
    "writer = PdfWriter()\n",
    "\n",
    "# Aggiungi le prime 50 pagine\n",
    "num_pages_to_extract = min(55, len(reader.pages))  # evita errori se ha meno di 50 pagine\n",
    "\n",
    "for i in range(num_pages_to_extract):\n",
    "    writer.add_page(reader.pages[i])\n",
    "\n",
    "# Salva il nuovo PDF\n",
    "output_path = \"Wiki_Conformità_primi_55.pdf\"\n",
    "with open(output_path, \"wb\") as f_out:\n",
    "    writer.write(f_out)\n",
    "\n",
    "print(f\"Nuovo PDF creato: {output_path}\")\n"
   ]
  }
 ],
 "metadata": {
  "kernelspec": {
   "display_name": "Python 3",
   "language": "python",
   "name": "python3"
  },
  "language_info": {
   "codemirror_mode": {
    "name": "ipython",
    "version": 3
   },
   "file_extension": ".py",
   "mimetype": "text/x-python",
   "name": "python",
   "nbconvert_exporter": "python",
   "pygments_lexer": "ipython3",
   "version": "3.11.9"
  }
 },
 "nbformat": 4,
 "nbformat_minor": 5
}
